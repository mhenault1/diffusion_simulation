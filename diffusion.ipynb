{
 "cells": [
  {
   "cell_type": "markdown",
   "metadata": {},
   "source": [
    "# Simulation de la diffusion en une dimension\n",
    "## BIO-2007 Hiver 2021\n",
    "\n",
    "# Introduction\n",
    "Cette page est l'interface qui vous permettra d'exécuter une simulation de la diffusion et de vous familiariser avec certaines propriétés statistiques de ce processus. <br>\n",
    "\n",
    "Pour utiliser cette interface, vous devez exécuter du code sous forme de cellules. Voici les consignes à suivre pour exécuter la simulation:<br>\n",
    "\n",
    "1) Exécutez les cellules dans l'ordre indiqué. <br>\n",
    "2) Sauf indication contraire, vous ne devez jamais modifier le texte inscrit dans les cellules. <br>\n",
    "3) Lorsque indiqué, vous pourrez modifier certains paramètres de la simulation. Pour ce faire, substituez les valeurs des paramètres dans les cellules de code. Les valeurs sont toujours des nombres entiers (ex. 1, 42, etc.) <br>\n",
    "3) Pour exécuter une cellule, vous devez cliquer à l'intérieur de la cellule pour y placer le curseur. La cellule est alors mise en évidence par l'apparition d'un encadré vert. Il suffit ensuite de cliquer sur le bouton \"Run\" dans la barre supérieure de l'interface. La cellule est en cours d'exécution lorsque le symbole <img src=\"execution_symbol.png\" alt=\"Drawing\" style=\"width: 60px;display:inline;\"/> s'affiche à sa gauche. La cellule est exécutée avec succès lorsqu'un chiffre <img src=\"executed_symbol.png\" alt=\"Drawing\" style=\"width: 60px;display:inline;\"/> réapparaît sur la gauche. L'animation ci-dessous montre un exemple de l'exécution d'une cellule. <br>\n",
    "<img src=\"cell_execution.gif\" alt=\"Drawing\" style=\"width: 1024px;\"/> <br>\n",
    "\n",
    "# Avant de débuter: \n",
    "Vous devez d'abord exécuter la cellule ci-dessous. Cette étape initiale n'a besoin d'être effectuée qu'une seule fois. Passez ensuite aux Étapes 1, 2 et 3."
   ]
  },
  {
   "cell_type": "code",
   "execution_count": null,
   "metadata": {},
   "outputs": [],
   "source": [
    "import simfunc"
   ]
  },
  {
   "cell_type": "markdown",
   "metadata": {},
   "source": [
    "# Étape 1. Exécuter la simulation\n",
    "Exécutez la cellule ci-dessous (cliquez d'abord à l'intérieur de la cellule, puis sur \"Run\" dans la barre supérieure). <br>\n",
    "\n",
    "Avec les paramètres indiqués par défaut, la simulation inclut 5 particules qui diffuseront pendant 100 unités de temps. À chaque unité de temps, chaque particule a une probabilité égale de se déplacer de +1 ou -1 sur l'axe x. Faites d'abord une simulation avec les paramètres indiqués par défaut, puis passez aux étapes 2 et 3. <br>\n",
    "\n",
    "Après avoir effectué les étapes 2 et 3, vous pouvez revenir modifier la valeur des paramètres de la simulation, puis l'exécuter à nouveau. Pour chaque nouvel essai de la simulation, vous pouvez visualiser les résultats à l'aide de l'Étape 3. \n"
   ]
  },
  {
   "cell_type": "code",
   "execution_count": null,
   "metadata": {},
   "outputs": [],
   "source": [
    "# nombre de particules simulées. Ne pas excéder 100.\n",
    "n_particules = 5\n",
    "\n",
    "# durée de la simulation (unités de temps). Ne pas excéder 1000.\n",
    "duree = 100\n",
    "\n",
    "##### NE PAS MODIFIER LA LIGNE CI-DESSOUS #####\n",
    "\n",
    "S = simfunc.simulate(duree, n_particules)"
   ]
  },
  {
   "cell_type": "markdown",
   "metadata": {},
   "source": [
    "# Étape 2. Visualiser la simulation sous forme de tableau\n",
    "Exécutez la cellule ci-dessous (cliquez d'abord à l'intérieur de la cellule, puis sur \"Run\" dans la barre supérieure). <br>\n",
    "\n",
    "Reproduisez le tableau ci-dessous sur papier. Pour chaque valeur de temps (rangée), calculez la valeur des statistiques suivantes: <br>\n",
    "1: <img src=\"xbarre.png\" alt=\"Drawing\" style=\"width: 100px;display:inline;\"/> <br>\n",
    "2: <img src=\"x2barre.png\" alt=\"Drawing\" style=\"width: 100px;display:inline;\"/> <br>"
   ]
  },
  {
   "cell_type": "code",
   "execution_count": null,
   "metadata": {},
   "outputs": [],
   "source": [
    "##### NE PAS MODIFIER LA LIGNE CI-DESSOUS #####\n",
    "simfunc.plot_table(S)"
   ]
  },
  {
   "cell_type": "markdown",
   "metadata": {},
   "source": [
    "# Étape 3. Représentation graphique des résultats\n",
    "Exécutez la cellule ci-dessous (cliquez d'abord à l'intérieur de la cellule, puis sur \"Run\" dans la barre supérieure). <br>\n",
    "\n",
    "Après avoir exécuté la simulation à l'étape 1, représentez graphiquement les résultats en exécutant cette cellule. Les graphiques présenteront toujours les résultats de la dernière simulation ayant été exécutée sur cette page. L'exécution de cette cellule peut prendre jusqu'à une minute. <br>\n",
    "\n",
    "<img src=\"graph_exec_.gif\" alt=\"Drawing\" style=\"width: 1024px;display:inline;\"/>"
   ]
  },
  {
   "cell_type": "code",
   "execution_count": null,
   "metadata": {},
   "outputs": [],
   "source": [
    "##### NE PAS MODIFIER LA LIGNE CI-DESSOUS #####\n",
    "simfunc.plot_sim(S)"
   ]
  },
  {
   "cell_type": "markdown",
   "metadata": {},
   "source": [
    "# Étape 4\n",
    "Répétez l'exécution de la simulation (Étape 1) et visualisez le graphique (Étape 3) pour les cas suivants. Pour chaque cas, observez les tendances des statistiques des 2e et 3e graphiques. Observez comment ces tendances varient lorsque vous faites des répétitions de la simulation avec les mêmes valeurs de paramètres; vous pouvez également comparer vos résultats avec ceux de votre équipe. \n",
    "1) avec les paramètres par défaut (n_particules = 5, duree = 100) au moins une autre fois; <br>\n",
    "2) avec les paramètres n_particules = 10, duree = 200), au moins deux fois; <br>\n",
    "3) avec les paramètres n_particules = 100, duree = 1000 <br>\n",
    "<img src=\"change_parameters.gif\" alt=\"Drawing\" style=\"width: 1024px;display:inline;\"/>"
   ]
  }
 ],
 "metadata": {
  "kernelspec": {
   "display_name": "Python 3",
   "language": "python",
   "name": "python3"
  },
  "language_info": {
   "codemirror_mode": {
    "name": "ipython",
    "version": 3
   },
   "file_extension": ".py",
   "mimetype": "text/x-python",
   "name": "python",
   "nbconvert_exporter": "python",
   "pygments_lexer": "ipython3",
   "version": "3.7.8"
  }
 },
 "nbformat": 4,
 "nbformat_minor": 4
}
